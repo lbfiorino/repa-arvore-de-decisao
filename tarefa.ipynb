{
 "metadata": {
  "language_info": {
   "codemirror_mode": {
    "name": "ipython",
    "version": 3
   },
   "file_extension": ".py",
   "mimetype": "text/x-python",
   "name": "python",
   "nbconvert_exporter": "python",
   "pygments_lexer": "ipython3",
   "version": "3.8.5-final"
  },
  "orig_nbformat": 2,
  "kernelspec": {
   "name": "python3",
   "display_name": "Python 3",
   "language": "python"
  }
 },
 "nbformat": 4,
 "nbformat_minor": 2,
 "cells": [
  {
   "source": [
    "## Datasets\n",
    "### https://archive.ics.uci.edu/ml/machine-learning-databases/glass/\n",
    "### https://archive.ics.uci.edu/ml/datasets/Heart+failure+clinical+records\n",
    "### https://archive.ics.uci.edu/ml/datasets/HCC+Survival"
   ],
   "cell_type": "markdown",
   "metadata": {}
  },
  {
   "cell_type": "code",
   "execution_count": 3,
   "metadata": {},
   "outputs": [],
   "source": [
    "import numpy as np\n",
    "\n",
    "dataset1 = np.loadtxt('datasets/glass.data', delimiter=',')\n",
    "dataset2 = np.loadtxt('datasets/heart_failure_clinical_records_dataset.csv', delimiter=',', skiprows=1)\n",
    "dataset3 = np.loadtxt('datasets/hcc-data.txt', delimiter=',') # Dados faltantes preenchidos com 0"
   ]
  },
  {
   "cell_type": "code",
   "execution_count": 12,
   "metadata": {},
   "outputs": [
    {
     "output_type": "stream",
     "name": "stdout",
     "text": [
      "[1.52101e+00 1.36400e+01 4.49000e+00 1.10000e+00 7.17800e+01 6.00000e-02\n 8.75000e+00 0.00000e+00 0.00000e+00]\n"
     ]
    }
   ],
   "source": [
    "X1, y1 = dataset1[:,1:-1], dataset1[:,-1]\n",
    "\n",
    "print(f\"{X1[0]}\")\n"
   ]
  }
 ]
}