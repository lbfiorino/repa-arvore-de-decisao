{
 "metadata": {
  "language_info": {
   "codemirror_mode": {
    "name": "ipython",
    "version": 3
   },
   "file_extension": ".py",
   "mimetype": "text/x-python",
   "name": "python",
   "nbconvert_exporter": "python",
   "pygments_lexer": "ipython3",
   "version": "3.8.5-final"
  },
  "orig_nbformat": 2,
  "kernelspec": {
   "name": "python3",
   "display_name": "Python 3",
   "language": "python"
  }
 },
 "nbformat": 4,
 "nbformat_minor": 2,
 "cells": [
  {
   "source": [
    "## Datasets\n",
    "### https://archive.ics.uci.edu/ml/machine-learning-databases/glass/\n",
    "### https://archive.ics.uci.edu/ml/datasets/Heart+failure+clinical+records\n",
    "### https://archive.ics.uci.edu/ml/datasets/banknote+authentication"
   ],
   "cell_type": "markdown",
   "metadata": {}
  },
  {
   "cell_type": "code",
   "execution_count": 12,
   "metadata": {},
   "outputs": [],
   "source": [
    "import numpy as np\n",
    "\n",
    "dataset1 = np.loadtxt('datasets/glass.data', delimiter=',')\n",
    "dataset2 = np.loadtxt('datasets/heart_failure_clinical_records_dataset.csv', delimiter=',', skiprows=1)\n",
    "dataset3 = np.loadtxt('datasets/data_banknote_authentication.txt', delimiter=',') "
   ]
  },
  {
   "cell_type": "code",
   "execution_count": 16,
   "metadata": {},
   "outputs": [
    {
     "output_type": "stream",
     "name": "stdout",
     "text": [
      "Dataset1: (214, 9), (214,), {1.0, 2.0, 3.0, 5.0, 6.0, 7.0}\n\nDataset2: (299, 12), (299,), {0.0, 1.0}\n\nDataset3: (1372, 4), (1372,), {0.0, 1.0}\n"
     ]
    }
   ],
   "source": [
    "X1, y1 = dataset1[:,1:-1], dataset1[:,-1]\n",
    "X2, y2 = dataset2[:,:-1], dataset2[:,-1]\n",
    "X3, y3 = dataset3[:,:-1], dataset3[:,-1]\n",
    "\n",
    "print(f\"Dataset1: {X1.shape}, {y1.shape}, {set(y1)}\\n\")\n",
    "print(f\"Dataset2: {X2.shape}, {y2.shape}, {set(y2)}\\n\")\n",
    "print(f\"Dataset3: {X3.shape}, {y3.shape}, {set(y3)}\")\n",
    "\n"
   ]
  },
  {
   "cell_type": "code",
   "execution_count": null,
   "metadata": {},
   "outputs": [],
   "source": []
  }
 ]
}