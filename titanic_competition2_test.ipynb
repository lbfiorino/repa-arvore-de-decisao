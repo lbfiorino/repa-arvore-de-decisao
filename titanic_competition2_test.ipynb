{
 "metadata": {
  "language_info": {
   "codemirror_mode": {
    "name": "ipython",
    "version": 3
   },
   "file_extension": ".py",
   "mimetype": "text/x-python",
   "name": "python",
   "nbconvert_exporter": "python",
   "pygments_lexer": "ipython3",
   "version": "3.8.8-final"
  },
  "orig_nbformat": 2,
  "kernelspec": {
   "name": "python3",
   "display_name": "Python 3.8.8 64-bit",
   "metadata": {
    "interpreter": {
     "hash": "c8b6865b6276da7a1042bdeb5bcbfeaa12d453d1838a1bac25304c8069a869a3"
    }
   }
  }
 },
 "nbformat": 4,
 "nbformat_minor": 2,
 "cells": [
  {
   "source": [
    "# Segunda Tarefa do Titanic\n"
   ],
   "cell_type": "markdown",
   "metadata": {}
  },
  {
   "cell_type": "code",
   "execution_count": 59,
   "metadata": {},
   "outputs": [],
   "source": [
    "import pandas as pd\n",
    "#train = pd.read_csv('train.csv')\n",
    "#test = pd.read_csv('test.csv')\n",
    "train = pd.read_csv('datasets/titanic/train.csv')\n",
    "test = pd.read_csv('datasets/titanic/test.csv')\n",
    "X = train[list(test.columns)]\n",
    "y = train[train.columns[~train.columns.isin(test.columns)]]\n"
   ]
  },
  {
   "source": [
    "#### Teste de tratamento das características"
   ],
   "cell_type": "markdown",
   "metadata": {}
  },
  {
   "cell_type": "code",
   "execution_count": 60,
   "metadata": {},
   "outputs": [],
   "source": [
    "# # Pessoas com idade < 14 classificada como crianças\n",
    "# X['Age'].fillna(X['Age'].mean(), inplace=True)\n",
    "# test['Age'].fillna(X['Age'].mean(), inplace=True)\n",
    "\n",
    "# X.loc[ X['Age'] < 14, 'Sex'] = 'children'\n",
    "# X['Age'] = X['Age'].astype(int)\n",
    "# test.loc[ test['Age'] < 14, 'Sex'] = 'children'\n",
    "# test['Age'] = test['Age'].astype(int)\n",
    "\n",
    "# # Define classe para o sexo\n",
    "# # Classes: 1: female, 2: male\n",
    "# X['Sex'] = X['Sex'].map({'male':2, 'female':1, 'children':0})\n",
    "# test['Sex'] = test['Sex'].map({'male':2, 'female':1, 'children':0})\n",
    "\n",
    "\n",
    "# # # Define classes para as idades\n",
    "# # X.loc[ X['Age'] <= 16, 'Age'] = 0\n",
    "# # X.loc[(X['Age'] > 16) & (X['Age'] <= 32), 'Age'] = 1\n",
    "# # X.loc[(X['Age'] > 32) & (X['Age'] <= 48), 'Age'] = 2\n",
    "# # X.loc[(X['Age'] > 48) & (X['Age'] <= 64), 'Age'] = 3\n",
    "# # X.loc[ X['Age'] > 64, 'Age']\n",
    "# # test.loc[ test['Age'] <= 16, 'Age'] = 0\n",
    "# # test.loc[(test['Age'] > 16) & (test['Age'] <= 32), 'Age'] = 1\n",
    "# # test.loc[(test['Age'] > 32) & (test['Age'] <= 48), 'Age'] = 2\n",
    "# # test.loc[(test['Age'] > 48) & (test['Age'] <= 64), 'Age'] = 3\n",
    "# # test.loc[ test['Age'] > 64, 'Age']\n",
    "\n",
    "# # Classifica pessoas viajando sozinhas e cria nova característica\n",
    "# X['alone'] = 0\n",
    "# X.loc[(X['SibSp'] == 0) & (X['Parch'] == 0), 'alone'] = 1\n",
    "# X.loc[(X['SibSp'] > 0) | (X['Parch'] > 0), 'alone'] = 0\n",
    "# X['alone'] = X['alone'].astype(int)\n",
    "# test['alone'] = 0\n",
    "# test.loc[(test['SibSp'] == 0) & (test['Parch'] == 0), 'alone'] = 1\n",
    "# test.loc[(test['SibSp'] > 0) | (test['Parch'] > 0), 'alone'] = 0\n",
    "# test['alone'] = test['alone'].astype(int)\n",
    "\n",
    "# # # # Define classes para a tarifa\n",
    "# # X['Fare'].fillna(X['Fare'].median(), inplace = True)\n",
    "# # test['Fare'].fillna(test['Fare'].median(), inplace = True)\n",
    "\n",
    "# # X.loc[ X['Fare'] <= 7, 'Fare'] = 0\n",
    "# # X.loc[(X['Fare'] > 7) & (X['Fare'] <= 15), 'Fare'] = 1\n",
    "# # X.loc[(X['Fare'] > 15) & (X['Fare'] <= 35), 'Fare']   = 2\n",
    "# # X.loc[ X['Fare'] > 36, 'Fare'] = 3\n",
    "# # test.loc[ test['Fare'] <= 7, 'Fare'] = 0\n",
    "# # test.loc[(test['Fare'] > 7) & (test['Fare'] <= 15), 'Fare'] = 1\n",
    "# # test.loc[(test['Fare'] > 15) & (test['Fare'] <= 35), 'Fare']   = 2\n",
    "# # test.loc[ test['Fare'] > 35, 'Fare'] = 3\n",
    "\n",
    "\n",
    "# # Define classes para Embarked\n",
    "# #data2['Age'].fillna(data['Age'].median(), inplace=True)\n",
    "# X['Embarked'] = X['Embarked'].map({'C': 1, 'Q': 2, 'S': 3})\n",
    "# X['Embarked'].fillna(X['Embarked'].mode()[0], inplace=True)\n",
    "# test['Embarked'] = test['Embarked'].map({'C': 1, 'Q': 2, 'S': 3})\n",
    "# test['Embarked'].fillna(test['Embarked'].mode()[0], inplace=True)\n",
    "\n"
   ]
  },
  {
   "cell_type": "code",
   "execution_count": 61,
   "metadata": {},
   "outputs": [],
   "source": [
    "from sklearn.base import BaseEstimator, TransformerMixin\n",
    "\n",
    "def extraiPronome(nome):\n",
    "    return nome.split(',')[1].split('.')[0].strip()\n",
    "\n",
    "class AtributosDesejados(BaseEstimator, TransformerMixin):\n",
    "    def __init__(self, excluirName=True):\n",
    "        self.excluirName = excluirName\n",
    "    def fit(self, X, y=None):\n",
    "        self.colunasIndesejadas = ['PassengerId', 'Ticket', 'Cabin']\n",
    "        #self.colunasIndesejadas = ['PassengerId', 'Ticket', 'Cabin', 'SibSp', 'Parch']\n",
    "        if self.excluirName:\n",
    "            self.colunasIndesejadas.append('Name')\n",
    "        return self\n",
    "    def transform(self, X, y=None):\n",
    "        Xdrop = X.drop(self.colunasIndesejadas,axis=1)\n",
    "        if 'Name' not in self.colunasIndesejadas:\n",
    "            Xdrop['Name'] = Xdrop['Name'].apply(extraiPronome)\n",
    "        return Xdrop\n"
   ]
  },
  {
   "cell_type": "code",
   "execution_count": 62,
   "metadata": {},
   "outputs": [],
   "source": [
    "from sklearn.base import BaseEstimator, TransformerMixin\n",
    "\n",
    "class AtributosNumericos(BaseEstimator, TransformerMixin):\n",
    "    def fit(self, X, y=None):\n",
    "        self.colunasNumericas = X.select_dtypes(include='number').columns\n",
    "        return self\n",
    "    def transform(self, X, y=None):\n",
    "        return X[self.colunasNumericas].to_numpy()\n"
   ]
  },
  {
   "cell_type": "code",
   "execution_count": 63,
   "metadata": {},
   "outputs": [],
   "source": [
    "from sklearn.base import BaseEstimator, TransformerMixin\n",
    "\n",
    "class AtributosCategoricos(BaseEstimator, TransformerMixin):\n",
    "    def fit(self, X, y=None):\n",
    "        self.colunasCategoricas = X.select_dtypes(include='object').columns\n",
    "        return self\n",
    "    def transform(self, X, y=None):\n",
    "        return X[self.colunasCategoricas].to_numpy()\n"
   ]
  },
  {
   "cell_type": "code",
   "execution_count": 64,
   "metadata": {},
   "outputs": [],
   "source": [
    "from sklearn.impute import SimpleImputer\n",
    "from sklearn.preprocessing import OneHotEncoder, StandardScaler\n",
    "from sklearn.pipeline import Pipeline, FeatureUnion\n",
    "\n",
    "trataAtributos = Pipeline([\n",
    "    ('unecaracteristicas', FeatureUnion([\n",
    "        ('pipenum', Pipeline([\n",
    "            ('atributos_numericos', AtributosNumericos()),\n",
    "            ('imputer', SimpleImputer(strategy='median')),\n",
    "            ('scaler', StandardScaler())\n",
    "        ])),\n",
    "        ('pipecat', Pipeline([\n",
    "            ('atributos_categoricos', AtributosCategoricos()),\n",
    "            ('imputer', SimpleImputer(strategy='most_frequent')),\n",
    "            ('encoder', OneHotEncoder(handle_unknown='ignore'))\n",
    "        ]))\n",
    "    ])),\n",
    "])\n"
   ]
  },
  {
   "cell_type": "code",
   "execution_count": 65,
   "metadata": {
    "tags": []
   },
   "outputs": [
    {
     "output_type": "execute_result",
     "data": {
      "text/plain": [
       "(array([nan, nan, nan, nan, nan, nan, nan, nan, nan, nan, nan, nan, nan,\n",
       "        nan, nan, nan, nan, nan, nan, nan, nan, nan, nan, nan, nan, nan,\n",
       "        nan, nan, nan, nan, nan, nan, nan, nan, nan, nan, nan, nan, nan,\n",
       "        nan, nan, nan, nan, nan, nan, nan, nan, nan, nan, nan]),\n",
       " nan,\n",
       " nan)"
      ]
     },
     "metadata": {},
     "execution_count": 65
    }
   ],
   "source": [
    "from sklearn.ensemble import RandomForestClassifier\n",
    "from sklearn.model_selection import GridSearchCV, cross_validate, RepeatedKFold\n",
    "import numpy as np\n",
    "\n",
    "pipetotal = Pipeline([\n",
    "    ('atributosDesejados', AtributosDesejados()),\n",
    "    ('trataAtributos', trataAtributos),\n",
    "    ('scaler', StandardScaler()),\n",
    "    ('classificador', RandomForestClassifier())\n",
    "])\n",
    "\n",
    "parametros = {\n",
    "    'atributosDesejados__excluirName': [True, False],\n",
    "    'classificador__max_depth': [5],\n",
    "}\n",
    "modelo = GridSearchCV(pipetotal, param_grid=parametros, n_jobs=-1)\n",
    "scores = cross_validate(modelo, X, y, cv=RepeatedKFold())\n",
    "scores['test_score'], np.mean(scores['test_score']), np.std(scores['test_score'])"
   ]
  }
 ]
}