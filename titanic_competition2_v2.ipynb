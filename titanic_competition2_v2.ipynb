{
 "metadata": {
  "language_info": {
   "codemirror_mode": {
    "name": "ipython",
    "version": 3
   },
   "file_extension": ".py",
   "mimetype": "text/x-python",
   "name": "python",
   "nbconvert_exporter": "python",
   "pygments_lexer": "ipython3",
   "version": "3.8.8-final"
  },
  "orig_nbformat": 2,
  "kernelspec": {
   "name": "python3",
   "display_name": "Python 3.8.8 64-bit",
   "metadata": {
    "interpreter": {
     "hash": "c8b6865b6276da7a1042bdeb5bcbfeaa12d453d1838a1bac25304c8069a869a3"
    }
   }
  }
 },
 "nbformat": 4,
 "nbformat_minor": 2,
 "cells": [
  {
   "cell_type": "code",
   "execution_count": 24,
   "metadata": {},
   "outputs": [],
   "source": [
    "# Desabilita warnings\n",
    "import warnings\n",
    "warnings.filterwarnings('ignore')\n",
    "\n",
    "import pandas as pd\n",
    "# train = pd.read_csv('train.csv')\n",
    "# test = pd.read_csv('test.csv')\n",
    "train = pd.read_csv('datasets/titanic/train.csv')\n",
    "test = pd.read_csv('datasets/titanic/test.csv')\n",
    "X = train[list(test.columns)]\n",
    "y = train[train.columns[~train.columns.isin(test.columns)]]\n"
   ]
  },
  {
   "cell_type": "code",
   "execution_count": 26,
   "metadata": {},
   "outputs": [
    {
     "output_type": "execute_result",
     "data": {
      "text/plain": [
       "1"
      ]
     },
     "metadata": {},
     "execution_count": 26
    }
   ],
   "source": []
  },
  {
   "cell_type": "code",
   "execution_count": 9,
   "metadata": {},
   "outputs": [],
   "source": [
    "from sklearn.base import BaseEstimator, TransformerMixin\n",
    "\n",
    "def extraiPronome(nome):\n",
    "    return nome.split(',')[1].split('.')[0].strip()\n",
    "\n",
    "# Remome colunas indesejadas no final do tratamento dos dados\n",
    "class AtributosDesejados(BaseEstimator, TransformerMixin):\n",
    "    def __init__(self, excluirName=True):\n",
    "        self.excluirName = excluirName\n",
    "    def fit(self, X, y=None):\n",
    "        self.colunasIndesejadas = ['PassengerId', 'Name', 'Ticket', 'Cabin', 'FamilySize', 'Age', 'Fare']\n",
    "        if self.excluirName:\n",
    "            self.colunasIndesejadas.append('Name')\n",
    "        return self\n",
    "    def transform(self, X, y=None):\n",
    "        if 'Name' not in self.colunasIndesejadas:\n",
    "            X['Name'] = X['Name'].apply(extraiPronome)\n",
    "            \n",
    "            # Trata pronome de tratamento\n",
    "            X['Name'] = X['Name'].replace('Mlle', 'Miss')\n",
    "            X['Name'] = X['Name'].replace(['Lady','Ms','Mme'] , 'Mrs')\n",
    "            X['Name'] = X['Name'].replace(['Lady', 'the Countess', 'Dona'] , 'Mrs')           \n",
    "            X['Name'] = X['Name'].replace(['the Countess', 'Dona', \n",
    "                                           'Capt', 'Col','Don', 'Dr', 'Major', 'Rev', 'Sir', 'Jonkheer'], 'Other')\n",
    "\n",
    "\n",
    "        # Define Cabin como a primeira letra\n",
    "        X['Cabin'] = X['Cabin'].str[:1]\n",
    "        X['Cabin'].fillna('Z', inplace=True)\n",
    "        \n",
    "        # Classe para o Sexo para drop 'Sex'\n",
    "        X['Sex_Class'] = 0\n",
    "        X.loc[ X['Sex'] == 'female', 'Sex_Class'] = 0\n",
    "        X.loc[ X['Sex'] == 'male', 'Sex_Class'] = 1\n",
    "        X['Sex_Class'] = X['Sex_Class'].astype(int)\n",
    "\n",
    "\n",
    "        # Classes para as idades para drop 'Age'\n",
    "        X['Age_Class'] = 0\n",
    "        X['Age'].fillna(X['Age'].median(), inplace=True)\n",
    "        \n",
    "        X.loc[X['Age'] <= 15, 'Age_Class'] = 0\n",
    "        X.loc[(X['Age'] > 15) & (X['Age'] <= 25), 'Age_Class'] = 1\n",
    "        X.loc[(X['Age'] > 25) & (X['Age'] <= 35), 'Age_Class'] = 2\n",
    "        X.loc[(X['Age'] > 35) & (X['Age'] <= 45), 'Age_Class'] = 3\n",
    "        X.loc[(X['Age'] > 45) & (X['Age'] <= 55), 'Age_Class'] = 4\n",
    "        X.loc[X['Age'] > 55, 'Age_Class'] = 5\n",
    "\n",
    "\n",
    "        # Classes para tarifa para drop 'Fare'\n",
    "        X['Fare_Class'] = ''\n",
    "        X['Fare'].fillna(X['Fare'].median(), inplace=True)\n",
    "\n",
    "        X.loc[ X['Fare'] < 20, 'Fare_Class'] = 'low_fare'\n",
    "        X.loc[(X['Fare'] >= 20) & (X['Fare'] < 60), 'Fare_Class'] = 'median_fare'\n",
    "        X.loc[(X['Fare'] >= 60) & (X['Fare'] < 120), 'Fare_Class'] = 'median_high_fare'\n",
    "        X.loc[ X['Fare'] >= 120, 'Fare_Class'] = 'high_fare'\n",
    "\n",
    "\n",
    "        # Cria característica FamilySize e características de tamanho da família\n",
    "        X['FamilySize'] = 0\n",
    "        X['FamilySize'] = X['SibSp'] + X['Parch'] + 1\n",
    "        X['FamilySize'] = X['FamilySize'].astype(int)\n",
    "\n",
    "        X['Single'] = X['FamilySize'].map(lambda x: 1 if x==1 else 0)\n",
    "        X['Small_family'] = X['FamilySize'].map(lambda x: 1 if 2 <= x <=4 else 0)\n",
    "        X['Medium_family'] = X['FamilySize'].map(lambda x: 1 if 5 <= x <=7 else 0)\n",
    "        X['Large_family'] = X['FamilySize'].map(lambda x: 1 if 7 < x else 0)        \n",
    "   \n",
    "\n",
    "        # Característica se é casada\n",
    "        # X['Is_Married'] = 0\n",
    "        # X['Is_Married'] = X['Title'].map(lambda x: 1 if x=='Mrs' else 0)   \n",
    "   \n",
    "        # Remove colunas indesejadas\n",
    "        X = X.drop(self.colunasIndesejadas,axis=1)\n",
    "        \n",
    "        return X\n"
   ]
  },
  {
   "cell_type": "code",
   "execution_count": 10,
   "metadata": {},
   "outputs": [],
   "source": [
    "from sklearn.base import BaseEstimator, TransformerMixin\n",
    "\n",
    "class AtributosNumericos(BaseEstimator, TransformerMixin):\n",
    "    def fit(self, X, y=None):\n",
    "        self.colunasNumericas = X.select_dtypes(include='number').columns\n",
    "        return self\n",
    "    def transform(self, X, y=None):\n",
    "        return X[self.colunasNumericas].to_numpy()\n"
   ]
  },
  {
   "cell_type": "code",
   "execution_count": 11,
   "metadata": {},
   "outputs": [],
   "source": [
    "from sklearn.base import BaseEstimator, TransformerMixin\n",
    "\n",
    "class AtributosCategoricos(BaseEstimator, TransformerMixin):\n",
    "    def fit(self, X, y=None):\n",
    "        self.colunasCategoricas = X.select_dtypes(include='object').columns\n",
    "        return self\n",
    "    def transform(self, X, y=None):\n",
    "        return X[self.colunasCategoricas].to_numpy()\n"
   ]
  },
  {
   "cell_type": "code",
   "execution_count": 12,
   "metadata": {},
   "outputs": [],
   "source": [
    "from sklearn.impute import SimpleImputer\n",
    "from sklearn.preprocessing import OneHotEncoder, StandardScaler\n",
    "from sklearn.pipeline import Pipeline, FeatureUnion\n",
    "\n",
    "trataAtributos = Pipeline([\n",
    "    ('unecaracteristicas', FeatureUnion([\n",
    "        ('pipenum', Pipeline([\n",
    "            ('atributos_numericos', AtributosNumericos()),\n",
    "            ('imputer', SimpleImputer(strategy='median')),\n",
    "            ('scaler', StandardScaler())\n",
    "        ])),\n",
    "        ('pipecat', Pipeline([\n",
    "            ('atributos_categoricos', AtributosCategoricos()),\n",
    "            ('imputer', SimpleImputer(strategy='most_frequent')),\n",
    "            ('encoder', OneHotEncoder(handle_unknown='ignore'))\n",
    "        ]))\n",
    "    ])),\n",
    "])\n"
   ]
  },
  {
   "cell_type": "code",
   "execution_count": 13,
   "metadata": {
    "tags": []
   },
   "outputs": [
    {
     "output_type": "execute_result",
     "data": {
      "text/plain": [
       "(array([0.81005587, 0.86516854, 0.81460674, 0.83146067, 0.85393258,\n",
       "        0.81564246, 0.79213483, 0.85955056, 0.83146067, 0.85955056,\n",
       "        0.84357542, 0.86516854, 0.78089888, 0.83146067, 0.85393258,\n",
       "        0.82122905, 0.79213483, 0.80898876, 0.87078652, 0.87640449,\n",
       "        0.84357542, 0.83707865, 0.83146067, 0.84831461, 0.81460674,\n",
       "        0.8603352 , 0.78651685, 0.83707865, 0.85393258, 0.83707865,\n",
       "        0.84916201, 0.84269663, 0.83707865, 0.81460674, 0.8258427 ,\n",
       "        0.87709497, 0.83146067, 0.83707865, 0.78651685, 0.84269663,\n",
       "        0.84357542, 0.82022472, 0.83707865, 0.85955056, 0.80337079,\n",
       "        0.88268156, 0.84269663, 0.8258427 , 0.79213483, 0.83146067]),\n",
       " 0.834219446362438,\n",
       " 0.02484779691299112)"
      ]
     },
     "metadata": {},
     "execution_count": 13
    }
   ],
   "source": [
    "from sklearn.ensemble import RandomForestClassifier\n",
    "from sklearn.model_selection import GridSearchCV, cross_validate, RepeatedKFold\n",
    "import numpy as np\n",
    "\n",
    "pipetotal = Pipeline([\n",
    "    ('atributosDesejados', AtributosDesejados()),\n",
    "    ('trataAtributos', trataAtributos),\n",
    "    ('classificador', RandomForestClassifier())\n",
    "])\n",
    "\n",
    "parametros = {\n",
    "    'classificador__max_depth': [5, 6, 7, 8],\n",
    "    'classificador__max_features': [3, 4,'sqrt'],\n",
    "    'classificador__min_samples_split': [4, 5, 6],\n",
    "    'classificador__min_samples_leaf': [2, 3],\n",
    "    'classificador__n_estimators' :[5, 10, 20, 80, 100, 200, 300],\n",
    "    'classificador__criterion': ['gini'],\n",
    "    'classificador__random_state': [50]\n",
    "}\n",
    "\n",
    "modelo = GridSearchCV(pipetotal, param_grid=parametros, n_jobs=-1)\n",
    "\n",
    "scores = cross_validate(modelo, X, y, cv=RepeatedKFold(n_splits=10))\n",
    "scores['test_score'], np.mean(scores['test_score']), np.std(scores['test_score'])"
   ]
  },
  {
   "cell_type": "code",
   "execution_count": 14,
   "metadata": {
    "tags": []
   },
   "outputs": [],
   "source": [
    "modelo.fit(X,y)\n",
    "y_pred = modelo.predict(test)\n",
    "result = test[['PassengerId']]\n",
    "result['Survived'] = y_pred\n",
    "result.to_csv('submission.csv',index=False)"
   ]
  }
 ]
}