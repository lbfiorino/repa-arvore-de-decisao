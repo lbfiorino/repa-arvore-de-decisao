{
 "metadata": {
  "language_info": {
   "codemirror_mode": {
    "name": "ipython",
    "version": 3
   },
   "file_extension": ".py",
   "mimetype": "text/x-python",
   "name": "python",
   "nbconvert_exporter": "python",
   "pygments_lexer": "ipython3",
   "version": "3.8.5-final"
  },
  "orig_nbformat": 2,
  "kernelspec": {
   "name": "python3",
   "display_name": "Python 3",
   "language": "python"
  }
 },
 "nbformat": 4,
 "nbformat_minor": 2,
 "cells": [
  {
   "cell_type": "code",
   "execution_count": 39,
   "metadata": {},
   "outputs": [
    {
     "output_type": "execute_result",
     "data": {
      "text/plain": [
       "('car.data', <http.client.HTTPMessage at 0x7f0d2c8cd760>)"
      ]
     },
     "metadata": {},
     "execution_count": 39
    }
   ],
   "source": [
    "import urllib.request\n",
    "url = 'https://archive.ics.uci.edu/ml/machine-learning-databases/car/car.data'\n",
    "\n",
    "urllib.request.urlretrieve(url, 'car.data')"
   ]
  },
  {
   "cell_type": "code",
   "execution_count": 40,
   "metadata": {},
   "outputs": [
    {
     "output_type": "execute_result",
     "data": {
      "text/plain": [
       "((1728, 6), (1728,))"
      ]
     },
     "metadata": {},
     "execution_count": 40
    }
   ],
   "source": [
    "import numpy as np\n",
    "data = np.loadtxt('car.data', dtype='str', delimiter=',')\n",
    "X, y = data[:,:-1], data[:,-1]\n",
    "X.shape, y.shape"
   ]
  },
  {
   "cell_type": "code",
   "execution_count": 41,
   "metadata": {},
   "outputs": [
    {
     "output_type": "stream",
     "name": "stdout",
     "text": [
      "{'high', 'low', 'vhigh', 'med'}\n{'high', 'low', 'vhigh', 'med'}\n{'3', '2', '5more', '4'}\n{'2', 'more', '4'}\n{'small', 'big', 'med'}\n{'high', 'low', 'med'}\n1728\n"
     ]
    }
   ],
   "source": [
    "combinacoes = 1\n",
    "for i in range(X.shape[1]):\n",
    "    valores = set(X[:,i])\n",
    "    combinacoes *= len(valores)\n",
    "    print(valores)\n",
    "print(combinacoes)"
   ]
  },
  {
   "cell_type": "code",
   "execution_count": 42,
   "metadata": {},
   "outputs": [
    {
     "output_type": "execute_result",
     "data": {
      "text/plain": [
       "(0.7002314814814815, array([ True,  True,  True, ...,  True, False, False]))"
      ]
     },
     "metadata": {},
     "execution_count": 42
    }
   ],
   "source": [
    "from sklearn.metrics import accuracy_score\n",
    "import numpy as np\n",
    "from collections import Counter\n",
    "\n",
    "def maisFrequente(y):\n",
    "    return Counter(y.flat).most_common(1)[0][0]\n",
    "\n",
    "class ZeroR():\n",
    "    def fit(self, X, y):\n",
    "        self.resposta = maisFrequente(y)\n",
    "\n",
    "    def predict(self, X):\n",
    "        y = np.empty((X.shape[0]), dtype='<U5')\n",
    "        y[:] = self.resposta\n",
    "        return y\n",
    "\n",
    "modelo = ZeroR()\n",
    "modelo.fit(X,y)\n",
    "ypred = modelo.predict(X)\n",
    "\n",
    "accuracy_score(y, ypred), (ypred == y)\n"
   ]
  },
  {
   "cell_type": "code",
   "execution_count": 43,
   "metadata": {},
   "outputs": [
    {
     "output_type": "execute_result",
     "data": {
      "text/plain": [
       "0.457283763074417"
      ]
     },
     "metadata": {},
     "execution_count": 43
    }
   ],
   "source": [
    "def impureza(y): #Gini\n",
    "    labels = list(set(y))\n",
    "    labels.sort()\n",
    "    probabilidades = np.zeros((len(labels),))\n",
    "    for i, k in enumerate(labels):\n",
    "        probabilidades[i] = sum(y==k)/len(y)\n",
    "    result = 1 - sum(probabilidades**2)\n",
    "    return result\n",
    "\n",
    "ytmp = y[:]\n",
    "valor = impureza(ytmp)\n",
    "valor"
   ]
  },
  {
   "cell_type": "code",
   "execution_count": 44,
   "metadata": {},
   "outputs": [
    {
     "output_type": "execute_result",
     "data": {
      "text/plain": [
       "0.44934645776177407"
      ]
     },
     "metadata": {},
     "execution_count": 44
    }
   ],
   "source": [
    "def impurezaValor(x, y, valor):\n",
    "    iguais = x==valor\n",
    "    impurezaIguais = impureza(y[iguais])\n",
    "    propIguais = sum(iguais)/len(y)\n",
    "    impurezaDiferentes = impureza(y[~iguais])\n",
    "    propDiferentes = sum(~iguais)/len(y)\n",
    "    impurezaTotal = propIguais*impurezaIguais + propDiferentes*impurezaDiferentes\n",
    "    return impurezaTotal\n",
    "\n",
    "impurezaValor(X[:,0], y, 'vhigh')\n"
   ]
  },
  {
   "cell_type": "code",
   "execution_count": 45,
   "metadata": {},
   "outputs": [
    {
     "output_type": "execute_result",
     "data": {
      "text/plain": [
       "(0.38615712609310704, 3, '2')"
      ]
     },
     "metadata": {},
     "execution_count": 45
    }
   ],
   "source": [
    "def impurezaMinima(X, y):\n",
    "    impurezas = []\n",
    "    caracteristicasValores = []\n",
    "    for i in range(X.shape[1]):\n",
    "        valores = sorted(list(set(X[:,i])))\n",
    "        for valor in valores:\n",
    "            caracteristicasValores.append([i,valor])\n",
    "            impurezaValorCaracteristica = impurezaValor(X[:,i], y, valor)\n",
    "            impurezas.append(impurezaValorCaracteristica)\n",
    "\n",
    "    caracteristicasValores = np.array(caracteristicasValores)\n",
    "    impurezas = np.array(impurezas)\n",
    "    menorImpureza = np.argmin(impurezas)\n",
    "    caracteristica, valor = caracteristicasValores[menorImpureza]\n",
    "    return impurezas[menorImpureza], int(caracteristica), valor\n",
    "\n",
    "impurezaMinima(X,y)\n"
   ]
  },
  {
   "cell_type": "code",
   "execution_count": 46,
   "metadata": {},
   "outputs": [
    {
     "output_type": "execute_result",
     "data": {
      "text/plain": [
       "(1.0, array([ True,  True,  True, ...,  True,  True,  True]))"
      ]
     },
     "metadata": {},
     "execution_count": 46
    }
   ],
   "source": [
    "from sklearn.metrics import accuracy_score\n",
    "import numpy as np\n",
    "from collections import Counter\n",
    "from sklearn.base import BaseEstimator, ClassifierMixin\n",
    "\n",
    "def maisFrequente(y):\n",
    "    return Counter(y.flat).most_common(1)[0][0]\n",
    "\n",
    "class Arvore(BaseEstimator, ClassifierMixin):\n",
    "    def fit(self, X, y):\n",
    "        self.impureza, self.caracteristica, self.valor = impurezaMinima(X,y)\n",
    "        iguais = X[:,self.caracteristica] == self.valor\n",
    "        if sum(iguais>0) and sum(~iguais)>0:\n",
    "            self.iguais = Arvore()\n",
    "            self.iguais.fit(X[iguais,:],y[iguais])\n",
    "            self.diferentes = Arvore()\n",
    "            self.diferentes.fit(X[~iguais,:],y[~iguais])\n",
    "        else:\n",
    "            self.resposta = maisFrequente(y)\n",
    "\n",
    "    def predict(self, X):\n",
    "        y = np.empty((X.shape[0]), dtype='<U5')\n",
    "        if hasattr(self, 'resposta'):\n",
    "            y[:] = self.resposta\n",
    "        else:\n",
    "            iguais = X[:,self.caracteristica] == self.valor\n",
    "            y[iguais] = self.iguais.predict(X[iguais,:])\n",
    "            y[~iguais] = self.diferentes.predict(X[~iguais,:])\n",
    "        return y\n",
    "\n",
    "modelo = Arvore()\n",
    "modelo.fit(X,y)\n",
    "ypred = modelo.predict(X)\n",
    "\n",
    "accuracy_score(y, ypred), (ypred == y)"
   ]
  },
  {
   "cell_type": "code",
   "execution_count": 49,
   "metadata": {},
   "outputs": [
    {
     "output_type": "execute_result",
     "data": {
      "text/plain": [
       "(array([0.62716763, 0.73121387, 0.75144509, 0.75362319, 0.8057971 ]),\n",
       " 0.7338493758900897)"
      ]
     },
     "metadata": {},
     "execution_count": 49
    }
   ],
   "source": [
    "from sklearn.model_selection import cross_validate\n",
    "\n",
    "scores = cross_validate(Arvore(), X, y)\n",
    "scores['test_score'], np.mean(scores['test_score'])"
   ]
  }
 ]
}