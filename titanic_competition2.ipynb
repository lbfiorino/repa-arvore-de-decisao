{
 "metadata": {
  "language_info": {
   "codemirror_mode": {
    "name": "ipython",
    "version": 3
   },
   "file_extension": ".py",
   "mimetype": "text/x-python",
   "name": "python",
   "nbconvert_exporter": "python",
   "pygments_lexer": "ipython3",
   "version": "3.8.8-final"
  },
  "orig_nbformat": 2,
  "kernelspec": {
   "name": "python3",
   "display_name": "Python 3.8.8 64-bit",
   "metadata": {
    "interpreter": {
     "hash": "c8b6865b6276da7a1042bdeb5bcbfeaa12d453d1838a1bac25304c8069a869a3"
    }
   }
  }
 },
 "nbformat": 4,
 "nbformat_minor": 2,
 "cells": [
  {
   "source": [
    "## Tarefa - Revisão de generalização\n",
    "### Ajuste de características - Titanic Competition\n"
   ],
   "cell_type": "markdown",
   "metadata": {}
  },
  {
   "cell_type": "code",
   "execution_count": 1,
   "metadata": {},
   "outputs": [],
   "source": [
    "# Desabilita warnings\n",
    "import warnings\n",
    "warnings.filterwarnings('ignore')\n",
    "\n",
    "import pandas as pd\n",
    "# train = pd.read_csv('train.csv')\n",
    "# test = pd.read_csv('test.csv')\n",
    "train = pd.read_csv('datasets/titanic/train.csv')\n",
    "test = pd.read_csv('datasets/titanic/test.csv')\n",
    "X = train[list(test.columns)]\n",
    "y = train[train.columns[~train.columns.isin(test.columns)]]\n"
   ]
  },
  {
   "cell_type": "code",
   "execution_count": 2,
   "metadata": {},
   "outputs": [],
   "source": [
    "from sklearn.base import BaseEstimator, TransformerMixin\n",
    "\n",
    "def extraiPronome(nome):\n",
    "    return nome.split(',')[1].split('.')[0].strip()\n",
    "\n",
    "# Remove colunas indesejadas no final do tratamento dos dados\n",
    "class AtributosDesejados(BaseEstimator, TransformerMixin):\n",
    "    def __init__(self, excluirName=True):\n",
    "        self.excluirName = excluirName\n",
    "    def fit(self, X, y=None):\n",
    "        self.colunasIndesejadas = ['PassengerId', 'Ticket', 'Cabin',]\n",
    "        if self.excluirName:\n",
    "            self.colunasIndesejadas.append('Name')\n",
    "        return self\n",
    "    def transform(self, X, y=None):\n",
    "        if 'Name' not in self.colunasIndesejadas:\n",
    "            X['Name'] = X['Name'].apply(extraiPronome)\n",
    "            \n",
    "            # Trata pronome de tratamento\n",
    "            X['Name'] = X['Name'].replace('Mlle', 'Miss')\n",
    "            X['Name'] = X['Name'].replace(['Ms','Mme'] , 'Mrs')\n",
    "            X['Name'] = X['Name'].replace(['Lady', 'the Countess', 'Dona'] , 'Mrs')\n",
    "            X['Name'] = X['Name'].replace(['Capt', 'Col','Don', 'Dr', 'Major', 'Rev', 'Sir', 'Jonkheer'], 'Mr')\n",
    "            #X['Name'] = X['Name'].replace(['Lady', 'the Countess', 'Dona', \n",
    "            #                                'Capt', 'Col','Don', 'Dr', 'Major', 'Rev', 'Sir', 'Jonkheer'], 'Other')\n",
    "\n",
    "      \n",
    "        # Deck (letra inicial da cabine)\n",
    "        X['Deck'] = X[\"Cabin\"].str.slice(0,1)        \n",
    "        #X['Deck'].fillna('Other', inplace=True)\n",
    "\n",
    "\n",
    "        # Classe para 'Sex'\n",
    "        X['Sex_Class'] = 0\n",
    "        X.loc[ X['Sex'] == 'female', 'Sex_Class'] = 0\n",
    "        X.loc[ X['Sex'] == 'male', 'Sex_Class'] = 1\n",
    "        X['Sex_Class'] = X['Sex_Class'].astype(int)\n",
    "\n",
    "\n",
    "        # Classes para as idades \n",
    "        X['Age_Class'] = ''\n",
    "        X['Age'].fillna(X['Age'].median(), inplace=True)\n",
    "        \n",
    "        X.loc[ X['Age'] < 16, 'Age_Class'] = 'children'\n",
    "        X.loc[(X['Age'] >= 16) & (X['Age'] < 35), 'Age_Class'] = 'young'\n",
    "        X.loc[(X['Age'] > 35) & (X['Age'] < 65), 'Age_Class'] = 'adult'\n",
    "        X.loc[ X['Age'] >= 65, 'Age_Class'] = 'old'\n",
    "\n",
    "\n",
    "        # Classes para tarifa\n",
    "        X['Fare_Class'] = ''\n",
    "        X['Fare'].fillna(X['Fare'].median(), inplace=True)\n",
    "\n",
    "        X.loc[ X['Fare'] < 25, 'Fare_Class'] = 'low_fare'\n",
    "        X.loc[(X['Fare'] >= 20) & (X['Fare'] < 50), 'Fare_Class'] = 'median_fare'\n",
    "        X.loc[(X['Fare'] >= 50) & (X['Fare'] < 100), 'Fare_Class'] = 'median_high_fare'\n",
    "        X.loc[ X['Fare'] >= 100, 'Fare_Class'] = 'high_fare'\n",
    "\n",
    "\n",
    "        # Cria característica FamilySize\n",
    "        X['FamilySize'] = 0\n",
    "        X['FamilySize'] = X['SibSp'] + X['Parch'] + 1\n",
    "        X['FamilySize'] = X['FamilySize'].astype(int)\n",
    "\n",
    "\n",
    "        # Classe para o tamanho da família\n",
    "        X['FamilySize_class'] = ''\n",
    "        X.loc[ X['FamilySize'] == 1, 'FamilySize_class'] = 'alone'\n",
    "        X.loc[(X['FamilySize'] > 1) & (X['FamilySize'] <= 4 ), 'FamilySize_class'] = 'small'\n",
    "        X.loc[(X['FamilySize'] > 4) & (X['FamilySize'] <= 7), 'FamilySize_class'] = 'medium'\n",
    "        X.loc[ X['FamilySize'] > 7, 'FamilySize_class'] = 'large'     \n",
    "\n",
    "\n",
    "        # # Classifica pessoas viajando sozinhas e cria nova característica 'isAlone'\n",
    "        # X['isAlone'] = 0\n",
    "        # X.loc[(X['SibSp'] == 0) & (X['Parch'] == 0), 'isAlone'] = 1\n",
    "        # X.loc[(X['SibSp'] > 0) | (X['Parch'] > 0), 'isAalone'] = 0\n",
    "        # X['isAlone'] = X['isAlone'].astype(int)\n",
    "\n",
    "        # Remove colunas indesejadas\n",
    "        X = X.drop(self.colunasIndesejadas,axis=1)\n",
    "        \n",
    "        return X\n"
   ]
  },
  {
   "cell_type": "code",
   "execution_count": 3,
   "metadata": {},
   "outputs": [],
   "source": [
    "from sklearn.base import BaseEstimator, TransformerMixin\n",
    "\n",
    "class AtributosNumericos(BaseEstimator, TransformerMixin):\n",
    "    def fit(self, X, y=None):\n",
    "        self.colunasNumericas = X.select_dtypes(include='number').columns\n",
    "        return self\n",
    "    def transform(self, X, y=None):\n",
    "        return X[self.colunasNumericas].to_numpy()\n"
   ]
  },
  {
   "cell_type": "code",
   "execution_count": 4,
   "metadata": {},
   "outputs": [],
   "source": [
    "from sklearn.base import BaseEstimator, TransformerMixin\n",
    "\n",
    "class AtributosCategoricos(BaseEstimator, TransformerMixin):\n",
    "    def fit(self, X, y=None):\n",
    "        self.colunasCategoricas = X.select_dtypes(include='object').columns\n",
    "        return self\n",
    "    def transform(self, X, y=None):\n",
    "        return X[self.colunasCategoricas].to_numpy()\n"
   ]
  },
  {
   "cell_type": "code",
   "execution_count": 5,
   "metadata": {},
   "outputs": [],
   "source": [
    "from sklearn.impute import SimpleImputer\n",
    "from sklearn.preprocessing import OneHotEncoder, StandardScaler\n",
    "from sklearn.pipeline import Pipeline, FeatureUnion\n",
    "\n",
    "trataAtributos = Pipeline([\n",
    "    ('unecaracteristicas', FeatureUnion([\n",
    "        ('pipenum', Pipeline([\n",
    "            ('atributos_numericos', AtributosNumericos()),\n",
    "            ('imputer', SimpleImputer(strategy='median')),\n",
    "            ('scaler', StandardScaler())\n",
    "        ])),\n",
    "        ('pipecat', Pipeline([\n",
    "            ('atributos_categoricos', AtributosCategoricos()),\n",
    "            ('imputer', SimpleImputer(strategy='most_frequent')),\n",
    "            ('encoder', OneHotEncoder(handle_unknown='ignore'))\n",
    "        ]))\n",
    "    ])),\n",
    "])\n"
   ]
  },
  {
   "cell_type": "code",
   "execution_count": 6,
   "metadata": {
    "tags": []
   },
   "outputs": [
    {
     "output_type": "execute_result",
     "data": {
      "text/plain": [
       "(array([0.85972291, 0.8278702 , 0.85093603, 0.91345993, 0.81509297,\n",
       "        0.87625399, 0.88174231, 0.81796149, 0.85411251, 0.84818173,\n",
       "        0.87347035, 0.83304913, 0.8662806 , 0.81393368, 0.87036424,\n",
       "        0.84922988, 0.84421785, 0.86659769, 0.82876458, 0.87508849,\n",
       "        0.88296105, 0.8354845 , 0.85404882, 0.8650699 , 0.83392336,\n",
       "        0.86941103, 0.86740042, 0.85279657, 0.86244475, 0.83084751,\n",
       "        0.91643332, 0.81636316, 0.82638893, 0.89089769, 0.83232351,\n",
       "        0.8334476 , 0.90092817, 0.83387478, 0.82920205, 0.8794573 ,\n",
       "        0.77575419, 0.83051882, 0.84682957, 0.92514047, 0.83603333,\n",
       "        0.8520524 , 0.85935611, 0.84361517, 0.81687566, 0.86960445]),\n",
       " 0.852716303300619,\n",
       " 0.02873840044352618)"
      ]
     },
     "metadata": {},
     "execution_count": 6
    }
   ],
   "source": [
    "from sklearn.ensemble import RandomForestClassifier\n",
    "from sklearn.model_selection import GridSearchCV, cross_validate, RepeatedKFold\n",
    "import numpy as np\n",
    "\n",
    "pipetotal = Pipeline([\n",
    "    ('atributosDesejados', AtributosDesejados()),\n",
    "    ('trataAtributos', trataAtributos),\n",
    "    ('classificador', RandomForestClassifier())\n",
    "])\n",
    "\n",
    "parametros = {\n",
    "    'atributosDesejados__excluirName': [False],\n",
    "    'classificador__max_depth': [4, 5],\n",
    "    #'classificador__max_depth': [3, 5, 7, 9, 11, 13, 15, 25],\n",
    "    #'classificador__class_weight': ['balanced'],\n",
    "    #'classificador__criterion': ['gini', 'entropy'],\n",
    "    'classificador__max_features': [4, 5, 'sqrt'],\n",
    "    #'classificador__n_estimators': [100, 125, 150],\n",
    "    'classificador__min_samples_split': [3, 4, 5],\n",
    "    'classificador__min_samples_leaf': [1, 2, 3]\n",
    "}\n",
    "\n",
    "modelo = GridSearchCV(pipetotal, param_grid=parametros, scoring='average_precision', n_jobs=-1)\n",
    "\n",
    "scores = cross_validate(modelo, X, y, cv=RepeatedKFold())\n",
    "scores['test_score'], np.mean(scores['test_score']), np.std(scores['test_score'])"
   ]
  },
  {
   "cell_type": "code",
   "execution_count": 7,
   "metadata": {
    "tags": []
   },
   "outputs": [],
   "source": [
    "modelo.fit(X,y)\n",
    "y_pred = modelo.predict(test)\n",
    "result = test[['PassengerId']]\n",
    "result['Survived'] = y_pred\n",
    "result.to_csv('submission.csv',index=False)"
   ]
  }
 ]
}